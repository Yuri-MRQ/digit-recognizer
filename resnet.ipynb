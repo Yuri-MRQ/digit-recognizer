{
 "cells": [
  {
   "cell_type": "code",
   "execution_count": 1,
   "id": "6aa1cd40",
   "metadata": {},
   "outputs": [],
   "source": [
    "import tensorflow as tf\n",
    "from tensorflow.keras.layers import (Conv2D, Input, Dense, MaxPool2D,\n",
    "                                     BatchNormalization, Activation, \n",
    "                                     Add, ZeroPadding2D, Flatten, AveragePooling2D)\n",
    "from tensorflow.keras.models import Model"
   ]
  },
  {
   "cell_type": "code",
   "execution_count": 2,
   "id": "a326a8eb",
   "metadata": {},
   "outputs": [],
   "source": [
    "def plain_network(X, filters):\n",
    "    \n",
    "#     we have to save x\n",
    "    x_shortcut = X\n",
    "    \n",
    "#     first block\n",
    "    x = Conv2D(filters=filters, kernel_size=(3, 3), padding='same', strides=(1, 1))(x)\n",
    "    x = BatchNormalization()(x)\n",
    "    x = Activation('relu')(x)\n",
    "    \n",
    "#     second bloack\n",
    "    x = Conv2D(filters=filters, kernel_size=(3, 3), padding='same', strides=(1, 1))(x)\n",
    "    x = BatchNormalization()(x)\n",
    "    x = Activation('relu')(x)\n",
    "                   \n",
    "#     shortcut\n",
    "    x = Add()([x, x_shortcut])\n",
    "    x = Activation('relu')(x)\n",
    "                   \n",
    "    return x\n",
    "    \n",
    "    "
   ]
  },
  {
   "cell_type": "code",
   "execution_count": 3,
   "id": "f43222de",
   "metadata": {},
   "outputs": [],
   "source": [
    "def residual(X, filters):\n",
    "    \n",
    "    x_shortcut = X\n",
    "    \n",
    "#     first block\n",
    "    x = Conv2D(filters=filters, kernel_size=(3, 3), padding='same', strides=(2, 2))(x)\n",
    "    x = BatchNormalization()(x)\n",
    "    x = Activation('relu')(x)\n",
    "    \n",
    "#     second block\n",
    "    x = Conv2D(filters=filters, kernel_size=(3, 3), padding='same', strides=(1, 1))(x)\n",
    "    x = BatchNormalization()(x)\n",
    "    x = Activation('relu')(x)\n",
    "    \n",
    "#     shortcut\n",
    "    x_shortcut = Conv2D(filters=filters, kernel_size=(1,1), padding='valid', strides=(2, 2))(x_shortcut)\n",
    "    x_shortcut = BatchNormalization()(x_shortcut)\n",
    "    \n",
    "#     add\n",
    "\n",
    "    x = Add()([x, x_shortcut])\n",
    "    x = Activation('relu')(x)\n",
    "    \n",
    "    return x"
   ]
  },
  {
   "cell_type": "code",
   "execution_count": 5,
   "id": "18f2b27c",
   "metadata": {},
   "outputs": [],
   "source": [
    "def resnet18(input_shape):\n",
    "    \n",
    "    input_in = Input(shape=(input_shape))\n",
    "    x = ZeroPadding(padding=(3,3))(input_in)\n",
    "    \n",
    "#   1st stage\n",
    "    x = Conv2D(64, kernel_size=(7, 7), stride=(2, 2))(x)\n",
    "    x = BatchNormalization()(x)\n",
    "    x = Activation('relu')(x)\n",
    "    x = MaxPool2D(pool_size=(3, 3), stride=(2, 2))(x)\n",
    "    \n",
    "#   2st stage\n",
    "    x = plain_network(x, 64)\n",
    "    x = plain_network(x, 64)\n",
    "    \n",
    "#   3st stage\n",
    "    x = residual(x, 128)\n",
    "    x = plain_network(x, 128)\n",
    "    \n",
    "#   4st stage\n",
    "    x = residual(x, 256)\n",
    "    x = plain_network(x, 256)\n",
    "    \n",
    "#   5st stage\n",
    "    x = residual(x, 512)\n",
    "    x = plain_network(x, 512)\n",
    "    \n",
    "#   6st stage\n",
    "\n",
    "    x = AveragePooling2D(pool_size=(2, 2), padding='same')(x)\n",
    "    x = Flatten()(x)\n",
    "    x = Dense(1, activation='sigmoid')(x)\n",
    "    \n",
    "    model = Model(inputs = input_in, outputs = x, name='resnet18')\n",
    "    "
   ]
  },
  {
   "cell_type": "code",
   "execution_count": null,
   "id": "d42eb7b1",
   "metadata": {},
   "outputs": [],
   "source": []
  }
 ],
 "metadata": {
  "kernelspec": {
   "display_name": "Python 3 (ipykernel)",
   "language": "python",
   "name": "python3"
  },
  "language_info": {
   "codemirror_mode": {
    "name": "ipython",
    "version": 3
   },
   "file_extension": ".py",
   "mimetype": "text/x-python",
   "name": "python",
   "nbconvert_exporter": "python",
   "pygments_lexer": "ipython3",
   "version": "3.9.5"
  }
 },
 "nbformat": 4,
 "nbformat_minor": 5
}
